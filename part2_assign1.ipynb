{
 "cells": [
  {
   "cell_type": "code",
   "execution_count": 4,
   "metadata": {},
   "outputs": [
    {
     "name": "stdout",
     "output_type": "stream",
     "text": [
      "Elements in array x\n",
      "1.5\n",
      "2.5\n",
      "3.0\n",
      "4.2\n",
      "5.0\n",
      "6.0\n",
      "Elements in array y\n",
      "1.2\n",
      "2.5\n",
      "3.0\n",
      "4.0\n",
      "5.5\n",
      "6.5\n"
     ]
    }
   ],
   "source": [
    "import tensorflow as tf\n",
    "\n",
    "x=tf.constant([1.5, 2.5, 3.0, 4.2, 5.0, 6.0])\n",
    "y=tf.constant([1.2, 2.5, 3.0, 4.0, 5.5, 6.5])\n",
    "\n",
    "print('Elements in array x')\n",
    "with tf.name_scope (\"ElementsOfArray_X\"):\n",
    "    with tf.Session() as sess:\n",
    "        for i in range(len(sess.run(x))):\n",
    "            output = sess.run(x[i])\n",
    "            print(output)\n",
    "    \n",
    "print('Elements in array y')\n",
    "with tf.name_scope (\"ElementsOfArray_Y\"):\n",
    "    with tf.Session() as sess:\n",
    "        for i in range(len(sess.run(y))):\n",
    "            output1 = sess.run(y[i])\n",
    "            print(output1)"
   ]
  },
  {
   "cell_type": "code",
   "execution_count": 5,
   "metadata": {},
   "outputs": [
    {
     "name": "stdout",
     "output_type": "stream",
     "text": [
      "Mean of x\n",
      "3.5\n",
      "Mean of y\n",
      "3.5\n"
     ]
    }
   ],
   "source": [
    "sum1=tf.constant(0)\n",
    "\n",
    "with tf.name_scope(\"Mean_X\"):\n",
    "    with tf.Session() as sess:\n",
    "        for i in range(len(sess.run(x))):\n",
    "            output =sess.run(x[i])\n",
    "            sum1=tf.add(sum1,output, name=\"AddX\")\n",
    "        a=tf.divide(sum1,len(sess.run(x)), name=\"DivideByN\")\n",
    "        avgx=sess.run(a)\n",
    "    print('Mean of x')\n",
    "    print(avgx)\n",
    "\n",
    "sum1=tf.constant(0)\n",
    "with tf.name_scope(\"Mean_Y\"):\n",
    "    with tf.Session() as sess:\n",
    "        for i in range(len(sess.run(y))):\n",
    "            output =sess.run(y[i])\n",
    "            sum1=tf.add(sum1,output, name=\"AddY\")\n",
    "        a=tf.divide(sum1,len(sess.run(y)), name=\"DivideByN\")\n",
    "        avgy=sess.run(a)\n",
    "    print('Mean of y')\n",
    "    print(avgy)\n"
   ]
  },
  {
   "cell_type": "code",
   "execution_count": 8,
   "metadata": {},
   "outputs": [
    {
     "name": "stdout",
     "output_type": "stream",
     "text": [
      "Variance of x\n",
      "2.37333\n"
     ]
    }
   ],
   "source": [
    "#Calculate variance for x\n",
    "import tensorflow as tf\n",
    "var=tf.constant(0.0)\n",
    "with tf.name_scope(\"Calculate_Variance\"):\n",
    "    with tf.Session() as sess:\n",
    "        for i in range(len(sess.run(x))):\n",
    "            a=tf.subtract(sess.run(x[i]), avgx, name=\"Sub\")\n",
    "            b=tf.square(a, name=\"Squaring\")\n",
    "            var=tf.add(var,b, name=\"Add\")\n",
    "            var1=tf.divide(var,len(sess.run(x)))\n",
    "        vari=sess.run(var1)\n",
    "print('Variance of x')\n",
    "print(vari)\n"
   ]
  },
  {
   "cell_type": "code",
   "execution_count": 9,
   "metadata": {},
   "outputs": [
    {
     "name": "stdout",
     "output_type": "stream",
     "text": [
      "Covariance of x,y\n",
      "16.7\n"
     ]
    }
   ],
   "source": [
    "#Calculate covariance of x & y\n",
    "cov=tf.constant(0.0)\n",
    "with tf.name_scope(\"Calculate_Covariance\"):\n",
    "    with tf.Session() as sess:\n",
    "        for i in range(len(sess.run(x))):\n",
    "            a=tf.subtract(sess.run(x[i]),avgx, name=\"Subtract1\")\n",
    "            b=tf.subtract(sess.run(y[i]),avgy, name=\"Subtract2\")\n",
    "            c=tf.multiply(a,b,name=\"Multiply\")\n",
    "            cov=tf.add(cov,c, name=\"AddThem\")\n",
    "        covar=sess.run(cov)\n",
    "print('Covariance of x,y')\n",
    "print(covar)\n",
    "        "
   ]
  },
  {
   "cell_type": "code",
   "execution_count": 10,
   "metadata": {},
   "outputs": [
    {
     "name": "stdout",
     "output_type": "stream",
     "text": [
      "Value of slope\n",
      "1.17275\n"
     ]
    }
   ],
   "source": [
    "#Calculate value of m\n",
    "with tf.name_scope(\"Calculate_slope\"):\n",
    "    with tf.Session() as sess:\n",
    "        temp=tf.divide(cov,var)\n",
    "        slope=sess.run(temp)\n",
    "print('Value of slope')\n",
    "print(slope)\n"
   ]
  },
  {
   "cell_type": "code",
   "execution_count": 11,
   "metadata": {},
   "outputs": [
    {
     "name": "stdout",
     "output_type": "stream",
     "text": [
      "The value of c\n",
      "-0.604635\n"
     ]
    }
   ],
   "source": [
    "#Calculate value of c \n",
    "with tf.name_scope(\"Calculate_c\"):\n",
    "    c=tf.to_float(slope)\n",
    "    d=tf.to_float(avgx)\n",
    "    e=tf.multiply(c,d)\n",
    "    f=tf.to_float(avgy)\n",
    "    s=tf.subtract(f,e)\n",
    "    with tf.Session() as sess:\n",
    "        const_c=sess.run(s)\n",
    "print('The value of c')\n",
    "print(const_c)"
   ]
  },
  {
   "cell_type": "code",
   "execution_count": 12,
   "metadata": {
    "collapsed": true
   },
   "outputs": [],
   "source": [
    "import tensorflow as tf\n",
    "import numpy\n",
    "import matplotlib.pyplot as plt"
   ]
  },
  {
   "cell_type": "code",
   "execution_count": 13,
   "metadata": {},
   "outputs": [
    {
     "name": "stdout",
     "output_type": "stream",
     "text": [
      "[1.154494, 1.7408705, 3.265449, 4.3209267, 5.259129, 6.4318819]\n"
     ]
    }
   ],
   "source": [
    "with tf.Session() as sess:\n",
    "    x1=sess.run(x)\n",
    "    y1=sess.run(y)\n",
    "train_X = numpy.asarray(x1)\n",
    "train_Y = numpy.asarray(y1)\n",
    "\n",
    "\n",
    "ranX=tf.constant([1.5, 2.0, 3.3, 4.2, 5.0, 6.0])\n",
    "with tf.Session() as sess:\n",
    "    ranX1=sess.run(ranX)\n",
    "ranX2=numpy.asarray(ranX1)\n",
    "\n",
    "ranY=[0]*6\n",
    "    \n",
    "with tf.Session() as sess:\n",
    "        for i in range(len(sess.run(ranX))):\n",
    "            output = sess.run(ranX[i])\n",
    "            a=tf.multiply(output,slope)\n",
    "            b=tf.add(a,const_c)\n",
    "            ranY[i]=sess.run(b)\n",
    "print(ranY)            \n"
   ]
  },
  {
   "cell_type": "code",
   "execution_count": 48,
   "metadata": {},
   "outputs": [
    {
     "data": {
      "image/png": "[encoded data removed]",
      "text/plain": [
       "<matplotlib.figure.Figure at 0x7f4573fcf438>"
      ]
     },
     "metadata": {},
     "output_type": "display_data"
    }
   ],
   "source": [
    "plt.plot(train_X, train_Y, 'ro', label='Original data')\n",
    "plt.plot(ranX2, ranY, label='fitted line')\n",
    "plt.legend()\n",
    "plt.show()"
   ]
  },
  {
   "cell_type": "code",
   "execution_count": 51,
   "metadata": {},
   "outputs": [
    {
     "data": {
      "image/png": "[encoded data removed]",
      "text/plain": [
       "<matplotlib.figure.Figure at 0x7f4573eb8550>"
      ]
     },
     "metadata": {},
     "output_type": "display_data"
    },
    {
     "name": "stdout",
     "output_type": "stream",
     "text": [
      "0.275684\n"
     ]
    }
   ],
   "source": [
    "import numpy as np\n",
    "import tensorflow as tf\n",
    "npx=np.asarray(ranX2)\n",
    "npy=np.asarray(ranY)\n",
    "\n",
    "GraphFit=np.polyfit(npx,npy,1)\n",
    "fitFunc=np.poly1d(GraphFit)\n",
    "\n",
    "plt.plot(npx,npy,'yo',npx,fitFunc(npx),'--k')\n",
    "\n",
    "plt.show()\n",
    "\n",
    "with tf.name_scope(\"Root_mean_square_error\"):\n",
    "    rmse=tf.sqrt(tf.reduce_mean(tf.squared_difference(ranX,ranY)))\n",
    "\n",
    "with tf.Session() as sess:\n",
    "    print(sess.run(rmse))"
   ]
  },
  {
   "cell_type": "code",
   "execution_count": null,
   "metadata": {
    "collapsed": true
   },
   "outputs": [],
   "source": [
    "\n"
   ]
  }
 ],
 "metadata": {
  "kernelspec": {
   "display_name": "Python 3",
   "language": "python",
   "name": "python3"
  },
  "language_info": {
   "codemirror_mode": {
    "name": "ipython",
    "version": 3
   },
   "file_extension": ".py",
   "mimetype": "text/x-python",
   "name": "python",
   "nbconvert_exporter": "python",
   "pygments_lexer": "ipython3",
   "version": "3.6.1"
  }
 },
 "nbformat": 4,
 "nbformat_minor": 2
}
