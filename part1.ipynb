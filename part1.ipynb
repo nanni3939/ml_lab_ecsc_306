{
 "cells": [
  {
   "cell_type": "code",
   "execution_count": 1,
   "metadata": {},
   "outputs": [
    {
     "name": "stdout",
     "output_type": "stream",
     "text": [
      "[ 1.  2.  3.]\n",
      "[ 13.  23.  33.]\n",
      "2.0\n",
      "23.0\n",
      "2.0\n",
      "20.0\n",
      "10.0\n",
      "3.0\n"
     ]
    }
   ],
   "source": [
    "import tensorflow as tf\n",
    "var1 = tf.constant([1,2,3],dtype =tf.float32) # variable x\n",
    "var2 = tf.constant([13,23,33],dtype =tf.float32) #variable y\n",
    "\n",
    "m1 = tf.reduce_mean(var1) #mean(x)\n",
    "m2 = tf.reduce_mean(var2) #mean(y)\n",
    "\n",
    "sub=tf.subtract(var1,m1) #variance(x)\n",
    "sq = tf.square(sub)\n",
    "v = tf.reduce_sum(sq) \n",
    "\n",
    "c1 = tf.subtract(var1,m1)# c0-variance\n",
    "c2=tf.subtract(var2,m2)\n",
    "m=tf.multiply(c1,c2)\n",
    "covariance=tf.reduce_sum(m)\n",
    "\n",
    "mg=tf.div(covariance,v)# slope m\n",
    "\n",
    "cp=tf.multiply(mg,m1)\n",
    "\n",
    "cg=tf.subtract(m2,cp)#intercept c\n",
    "\n",
    "with tf.Session() as sess:\n",
    "    tf.InteractiveSession\n",
    "    print(sess.run(var1))\n",
    "    print(sess.run(var2))\n",
    "    print(sess.run(m1))\n",
    "    print(sess.run(m2))\n",
    "    print(sess.run(v))\n",
    "    print(sess.run(covariance))\n",
    "    print(sess.run(mg))\n",
    "    print(sess.run(cg))\n",
    "    writer=tf.summary.FileWriter(\"/tmp/tboard/output_n\",sess.graph)\n",
    "    writer.close()\n",
    "    "
   ]
  },
  {
   "cell_type": "code",
   "execution_count": null,
   "metadata": {
    "collapsed": true
   },
   "outputs": [],
   "source": []
  }
 ],
 "metadata": {
  "kernelspec": {
   "display_name": "Python 3",
   "language": "python",
   "name": "python3"
  },
  "language_info": {
   "codemirror_mode": {
    "name": "ipython",
    "version": 3
   },
   "file_extension": ".py",
   "mimetype": "text/x-python",
   "name": "python",
   "nbconvert_exporter": "python",
   "pygments_lexer": "ipython3",
   "version": "3.6.1"
  }
 },
 "nbformat": 4,
 "nbformat_minor": 2
}
